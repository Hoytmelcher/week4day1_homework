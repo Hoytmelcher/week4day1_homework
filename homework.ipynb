{
 "cells": [
  {
   "cell_type": "markdown",
   "metadata": {},
   "source": [
    "# Classic Algorithms"
   ]
  },
  {
   "cell_type": "markdown",
   "metadata": {},
   "source": [
    "## Tasks Today:\n",
    " \n",
    "1) <b>In-Place Algorithms</b> <br>\n",
    " &nbsp;&nbsp;&nbsp;&nbsp; a) Syntax <br>\n",
    " &nbsp;&nbsp;&nbsp;&nbsp; a) Out of Place Algorithm <br>\n",
    " &nbsp;&nbsp;&nbsp;&nbsp; b) In-Class Exercise #1 <br>\n",
    "2) <b>Two Pointers</b> <br>\n",
    "3) <b>Sorting Algorithms</b> <br>\n",
    "4) <b>Merge Sort</b> <br>\n",
    " &nbsp;&nbsp;&nbsp;&nbsp; a) Video on Algorithms <br>\n",
    " &nbsp;&nbsp;&nbsp;&nbsp; b) How it Works <br>\n",
    "5) <b>Exercises</b> <br>\n",
    " &nbsp;&nbsp;&nbsp;&nbsp; a) Exercise #1 - Reverse a List in Place Using an In-Place Algorithm <br>\n",
    " &nbsp;&nbsp;&nbsp;&nbsp; b) Exercise #2 - Find Distinct Words <br>\n",
    " &nbsp;&nbsp;&nbsp;&nbsp; c) Exercise #3 - Write a program to implement a Linear Search Algorithm. <br>"
   ]
  },
  {
   "cell_type": "markdown",
   "metadata": {},
   "source": [
    "## In-Place Algorithms"
   ]
  },
  {
   "cell_type": "markdown",
   "metadata": {},
   "source": [
    "#### Syntax"
   ]
  },
  {
   "cell_type": "code",
   "execution_count": 2,
   "metadata": {},
   "outputs": [
    {
     "data": {
      "text/plain": [
       "[1, 5, 3, 4, 2]"
      ]
     },
     "execution_count": 2,
     "metadata": {},
     "output_type": "execute_result"
    }
   ],
   "source": [
    "a_list = [1,2,3,4,5]\n",
    "\n",
    "def swap(input_list, i, j):\n",
    "    input_list[i], input_list[j] = input_list[j], input_list[i]\n",
    "    \n",
    "    return input_list\n",
    "\n",
    "swap(a_list, 1, 4)"
   ]
  },
  {
   "cell_type": "code",
   "execution_count": null,
   "metadata": {},
   "outputs": [],
   "source": [
    "\n",
    "    "
   ]
  },
  {
   "cell_type": "markdown",
   "metadata": {},
   "source": [
    "#### Out of Place Algorithm"
   ]
  },
  {
   "cell_type": "code",
   "execution_count": 4,
   "metadata": {},
   "outputs": [
    {
     "name": "stdout",
     "output_type": "stream",
     "text": [
      "[1, 2, 3, 4, 5]\n",
      "[1, 5, 3, 4, 2]\n"
     ]
    }
   ],
   "source": [
    "#out of place DOES NOT modify passed in variable\n",
    "a_list = [1,2,3,4,5]\n",
    "\n",
    "def swap(input_list, i, j):\n",
    "    input_list = input_list[:]\n",
    "    input_list[i], input_list[j] = input_list[j], input_list[i]\n",
    "    \n",
    "    return input_list\n",
    "swapped_list = swap(a_list, 1, 4)\n",
    "\n",
    "print(a_list)\n",
    "print(swapped_list)"
   ]
  },
  {
   "cell_type": "markdown",
   "metadata": {},
   "source": [
    "#### In-Class Exercise #1 <br>\n",
    "<p>Write a function that takes in four arguments (list, index1, index2, index3), and swaps those three positions in the list passed in.</p>"
   ]
  },
  {
   "cell_type": "code",
   "execution_count": 5,
   "metadata": {},
   "outputs": [
    {
     "data": {
      "text/plain": [
       "[1, 3, 2, 4, 5]"
      ]
     },
     "execution_count": 5,
     "metadata": {},
     "output_type": "execute_result"
    }
   ],
   "source": [
    "a_list = [1,2,3,4,5]\n",
    "\n",
    "def swap(input_list, i, j, k):\n",
    "    input_list[i], input_list[j], input_list[k] = input_list[k], input_list[j], input_list[i]\n",
    "    \n",
    "    return input_list\n",
    "\n",
    "swap(a_list, 1, 4, 2)\n",
    "\n"
   ]
  },
  {
   "cell_type": "code",
   "execution_count": 6,
   "metadata": {},
   "outputs": [
    {
     "name": "stdout",
     "output_type": "stream",
     "text": [
      "[1, 2, 3, 4, 5]\n",
      "[1, 4, 3, 2, 5]\n"
     ]
    }
   ],
   "source": [
    "a_list = [1,2,3,4,5]\n",
    "\n",
    "def swap(input_list, i, j, k):\n",
    "    input_list = input_list[:]\n",
    "    input_list[i], input_list[j], input_list[k] = input_list[k], input_list[j], input_list[i]\n",
    "    \n",
    "    return input_list\n",
    "\n",
    "swapped_list = swap(a_list, 1, 4, 3)\n",
    "\n",
    "print(a_list)\n",
    "print(swapped_list)"
   ]
  },
  {
   "cell_type": "markdown",
   "metadata": {},
   "source": [
    "## Two Pointers"
   ]
  },
  {
   "cell_type": "markdown",
   "metadata": {},
   "source": [
    "#### Syntax"
   ]
  },
  {
   "cell_type": "code",
   "execution_count": 7,
   "metadata": {},
   "outputs": [],
   "source": [
    "#reverse a list\n",
    "a_list = [1,2,3,4,5]\n",
    "    #    [5,2,3,4,1] 1st iteration\n",
    "    #    [5,4,3,2,1] 2nd iteration\n",
    "\n",
    "def reverse(a_list):\n",
    "    left = 0\n",
    "    right = len(a_list) - 1\n",
    "    \n",
    "    while left <= right:\n",
    "        a_list[left], a_list[right] = a_list[right], a_list[left]\n",
    "        left += 1\n",
    "        right -= 1\n",
    "        \n",
    "    return a_list\n"
   ]
  },
  {
   "cell_type": "code",
   "execution_count": 9,
   "metadata": {},
   "outputs": [
    {
     "name": "stdout",
     "output_type": "stream",
     "text": [
      "[5, 4, 3, 2, 1]\n"
     ]
    }
   ],
   "source": [
    "print(reverse(a_list))"
   ]
  },
  {
   "cell_type": "markdown",
   "metadata": {},
   "source": [
    "# Two Sum"
   ]
  },
  {
   "cell_type": "code",
   "execution_count": 38,
   "metadata": {},
   "outputs": [
    {
     "name": "stdout",
     "output_type": "stream",
     "text": [
      "[2, 5]\n"
     ]
    }
   ],
   "source": [
    "# The two sum problem is stated as follows: given an unsorted list and a number target, \n",
    "# the pair of numbers in that list such that their sum equals target.\n",
    "# For example, if the list is [3,5,2,−4,8,] and the value of target is 7, \n",
    "# then the program should return pair (2,5) since  and 2+5 are equal to 7.\n",
    "\n",
    "def two_sum(a_list, target):\n",
    "    i, j = 1, 0\n",
    "    \n",
    "    \n",
    "    for k in a_list:\n",
    "        if a_list [i] + a_list[j] == target:\n",
    "            return [a_list [i],a_list[j]]\n",
    "        else:\n",
    "            i += 1\n",
    "            j += 1\n",
    "        \n",
    "    \n",
    "\n",
    "print(two_sum([3,5,2,-4,8], 7)) # Should return [2, 5]"
   ]
  },
  {
   "cell_type": "code",
   "execution_count": 33,
   "metadata": {},
   "outputs": [
    {
     "name": "stdout",
     "output_type": "stream",
     "text": [
      "[2, 5]\n"
     ]
    }
   ],
   "source": [
    "def two_sum(a_list, target):\n",
    "    i, j = 0, 1\n",
    "    while a_list[i] + a_list[j] != target:\n",
    "        i += 1\n",
    "        j += 1\n",
    "        \n",
    "    return [a_list[j],a_list[i]]\n",
    "        \n",
    "    \n",
    "\n",
    "print(two_sum([3,5,2,-4,8], 7)) # Should return [2, 5]"
   ]
  },
  {
   "cell_type": "code",
   "execution_count": 40,
   "metadata": {},
   "outputs": [
    {
     "data": {
      "text/plain": [
       "[5, 2]"
      ]
     },
     "execution_count": 40,
     "metadata": {},
     "output_type": "execute_result"
    }
   ],
   "source": [
    "# The two sum problem is stated as follows: given an unsorted list and a number target, \n",
    "# the pair of numbers in that list such that their sum equals target.\n",
    "# For example, if the list is [3,5,2,−4,8,] and the value of target is 7, \n",
    "# then the program should return pair (2,5) since  and 2+5 are equal to 7.\n",
    "\n",
    "def two_sum(a_list, target):\n",
    "    for i in range(len(a_list)):\n",
    "        for j in range(i + 1, len(a_list)):\n",
    "            if a_list[i] + a_list[j] == target:\n",
    "                return [a_list[i], a_list[j]]\n",
    "\n",
    "two_sum([3,5,2,-4,8], 7) # Should return [2, 5]"
   ]
  },
  {
   "cell_type": "code",
   "execution_count": 42,
   "metadata": {},
   "outputs": [
    {
     "data": {
      "text/plain": [
       "[2, 5]"
      ]
     },
     "execution_count": 42,
     "metadata": {},
     "output_type": "execute_result"
    }
   ],
   "source": [
    "def two_sum(a_list, target):\n",
    "    num_dict = {}\n",
    "    \n",
    "    for i in range(len(a_list)):\n",
    "        if target - a_list[i] in num_dict:\n",
    "            return [a_list[i], target - a_list[i]]\n",
    "        num_dict[a_list[i]] = i\n",
    "        \n",
    "two_sum([3,5,2,-4,8], 7) # Should return [2, 5]       "
   ]
  },
  {
   "cell_type": "markdown",
   "metadata": {},
   "source": [
    "#### Video of Algorithms <br>\n",
    "<p>Watch the video about algorithms.</p>\n",
    "\n",
    "https://www.youtube.com/watch?v=Q9HjeFD62Uk\n",
    "\n",
    "https://www.youtube.com/watch?v=kPRA0W1kECg\n",
    "\n",
    "https://www.youtube.com/watch?v=ZZuD6iUe3Pc"
   ]
  },
  {
   "cell_type": "markdown",
   "metadata": {},
   "source": [
    "# Sorting Algorithms"
   ]
  },
  {
   "cell_type": "markdown",
   "metadata": {},
   "source": [
    "#### Bubble Sort\n",
    "\n",
    "Worst Case: O(n^2) Time - O(1) Space"
   ]
  },
  {
   "cell_type": "code",
   "execution_count": 45,
   "metadata": {},
   "outputs": [
    {
     "name": "stdout",
     "output_type": "stream",
     "text": [
      "[2, 23, 43, 53, 67, 234, 567, 657]\n"
     ]
    }
   ],
   "source": [
    "# Define an index i at 0, and an index j at i + 1\n",
    "# create a while loop, that runs until the list is sorted\n",
    "# Compare the values at i and j to see if the value at i is greater than j\n",
    "# if it is, swap the values. If it is not, leave the values alone.\n",
    "# increment i and j, until j is greater than the index of the last unsorted element\n",
    "# reset i and j to the beginning\n",
    "# If we go through the entire list and do not swap any elements, the list is sorted\n",
    "# and we can exit the loop\n",
    "\n",
    "def bubble_sort(a_list):\n",
    "    i, j = 0, 1\n",
    "    last_unsorted = len(a_list)\n",
    "    is_sorted = False\n",
    "    \n",
    "    while not is_sorted:\n",
    "        is_sorted = True\n",
    "        while j < last_unsorted:\n",
    "            if a_list[i] > a_list[j]:\n",
    "                #swap items\n",
    "                a_list[i], a_list[j] = a_list[j], a_list[i]\n",
    "                is_sorted = False\n",
    "            \n",
    "            i += 1\n",
    "            j += 1\n",
    "        \n",
    "        last_unsorted = j-1\n",
    "        i = 0\n",
    "        j = 1\n",
    "    \n",
    "    return a_list\n",
    "            \n",
    "print(bubble_sort([43,234,53,567,67,657,23,2]))"
   ]
  },
  {
   "cell_type": "markdown",
   "metadata": {},
   "source": [
    "##### Insertion Sort\n",
    "\n",
    "Worst Case: O(n^2) time - O(1)space"
   ]
  },
  {
   "cell_type": "code",
   "execution_count": null,
   "metadata": {},
   "outputs": [],
   "source": [
    "\"\"\"\n",
    "lock the first number\n",
    "check and see if next number if greater than or less than the number before it\n",
    "if greater than, place it back where it was, and move onto the next number\n",
    "if less than, move it to the left one and repeat check the number before it again\n",
    "\"\"\""
   ]
  },
  {
   "cell_type": "code",
   "execution_count": null,
   "metadata": {},
   "outputs": [],
   "source": [
    "\"\"\"\n",
    "define an index i at 0, and an index j at i + 1\n",
    "create a while loop \n",
    "compare the values at i and j\n",
    "if j > i, leave j\n",
    "otherwise, j is moved -= 1\n",
    "if a loop is made with no swaps, then sort is finished\n",
    "\"\"\""
   ]
  },
  {
   "cell_type": "markdown",
   "metadata": {},
   "source": [
    "## Merge Sort"
   ]
  },
  {
   "cell_type": "markdown",
   "metadata": {},
   "source": [
    "#### How it Works"
   ]
  },
  {
   "cell_type": "code",
   "execution_count": null,
   "metadata": {},
   "outputs": [],
   "source": []
  },
  {
   "cell_type": "markdown",
   "metadata": {},
   "source": [
    "## Binary Search Trees"
   ]
  },
  {
   "cell_type": "code",
   "execution_count": null,
   "metadata": {},
   "outputs": [],
   "source": []
  },
  {
   "cell_type": "markdown",
   "metadata": {},
   "source": [
    "#### In Class Assignment Level Master:\n",
    "invert the binary tree (Reverse it)"
   ]
  },
  {
   "cell_type": "code",
   "execution_count": null,
   "metadata": {},
   "outputs": [],
   "source": []
  },
  {
   "cell_type": "markdown",
   "metadata": {},
   "source": [
    "# Exercises"
   ]
  },
  {
   "cell_type": "markdown",
   "metadata": {},
   "source": [
    "### Exercise #1 <br>\n",
    "<p>Reverse the list below in-place using an in-place algorithm.<br>For extra credit: Reverse the strings at the same time.</p>"
   ]
  },
  {
   "cell_type": "code",
   "execution_count": 50,
   "metadata": {},
   "outputs": [
    {
     "name": "stdout",
     "output_type": "stream",
     "text": [
      "['.', 'ecnetnes', 'a', 'si', 'siht']\n"
     ]
    }
   ],
   "source": [
    "list = ['this' , 'is', 'a', 'sentence', '.']\n",
    "\n",
    "def reverse(list):\n",
    "    a_list = []\n",
    "    for word in list:\n",
    "        a_list.append(word[::-1])\n",
    "    \n",
    "    left = 0\n",
    "    right = len(a_list) -1 \n",
    "    while left <= right:\n",
    "        a_list[left], a_list[right] = a_list[right], a_list[left]\n",
    "        left += 1\n",
    "        right -= 1\n",
    "    return a_list\n",
    "    \n",
    "    \n",
    "    \n",
    "   \n",
    "\n",
    "print(reverse(list))"
   ]
  },
  {
   "cell_type": "markdown",
   "metadata": {},
   "source": [
    "### Exercise #2 <br>\n",
    "<p>Create a function that counts how many distinct words are in the string below, then outputs a dictionary with the words as the key and the value as the amount of times that word appears in the string.<br>Should output:<br>{'a': 5,<br>\n",
    " 'abstract': 1,<br>\n",
    " 'an': 3,<br>\n",
    " 'array': 2, ... etc...</p>"
   ]
  },
  {
   "cell_type": "code",
   "execution_count": 70,
   "metadata": {},
   "outputs": [
    {
     "name": "stdout",
     "output_type": "stream",
     "text": [
      "{'in': 1, 'computing,': 1, 'a': 5, 'hash': 4, 'table': 2, 'map': 2, 'is': 1, 'data': 2, 'structure': 2, 'which': 2, 'implements': 1, 'an': 3, 'associative': 1, 'array': 2, 'abstract': 1, 'type,': 1, 'that': 1, 'can': 2, 'keys': 1, 'to': 2, 'values.': 1, 'uses': 1, 'function': 1, 'compute': 1, 'index': 1, 'into': 1, 'of': 1, 'buckets': 1, 'or': 1, 'slots': 1, 'from': 1, 'the': 1, 'desired': 1, 'value': 1, 'be': 1, 'found': 1}\n"
     ]
    }
   ],
   "source": [
    "\n",
    "a_text = 'In computing, a hash table hash map is a data structure which implements an associative array abstract data type, a structure that can map keys to values. A hash table uses a hash function to compute an index into an array of buckets or slots from which the desired value can be found'\n",
    "\n",
    "def word_count(string):    \n",
    "    a_list = []\n",
    "    a_dict = {}\n",
    "    for word in a_text.lower().split(\" \"):\n",
    "        a_list.append(word)\n",
    "    for word in a_list:\n",
    "        try:\n",
    "            a_dict[word] += 1\n",
    "        except:\n",
    "            a_dict[word] = 1\n",
    "            \n",
    "    return a_dict\n",
    "    \n",
    "        \n",
    "        \n",
    "print(word_count(a_text))"
   ]
  },
  {
   "cell_type": "code",
   "execution_count": 96,
   "metadata": {},
   "outputs": [
    {
     "name": "stdout",
     "output_type": "stream",
     "text": [
      "{'in': 1, 'computing': 1, 'a': 5, 'hash': 4, 'table': 2, 'map': 2, 'is': 1, 'data': 2, 'structure': 2, 'which': 2, 'implements': 1, 'an': 3, 'associative': 1, 'array': 2, 'abstract': 1, 'type': 1, 'that': 1, 'can': 2, 'keys': 1, 'to': 2, 'values': 1, 'uses': 1, 'function': 1, 'compute': 1, 'index': 1, 'into': 1, 'of': 1, 'buckets': 1, 'or': 1, 'slots': 1, 'from': 1, 'the': 1, 'desired': 1, 'value': 1, 'be': 1, 'found': 1}\n"
     ]
    }
   ],
   "source": [
    "a_text = 'In computing, a hash table hash map is a data structure which implements an associative array abstract data type, a structure that can map keys to values. A hash table uses a hash function to compute an index into an array of buckets or slots from which the desired value can be found'\n",
    "\n",
    "\n",
    "def word_count(string):    \n",
    "    string = string.replace(',','')\n",
    "    string = string.replace('.','')\n",
    "    a_list = []\n",
    "    a_dict = {}\n",
    "    for word in string.lower().split(\" \"):\n",
    "        a_list.append(word)    \n",
    "    for word in a_list:\n",
    "        try:\n",
    "            a_dict[word] += 1\n",
    "        except:\n",
    "            a_dict[word] = 1\n",
    "            \n",
    "    return a_dict\n",
    "    \n",
    "        \n",
    "        \n",
    "print(word_count(a_text))"
   ]
  },
  {
   "cell_type": "markdown",
   "metadata": {},
   "source": [
    "#Exercise #3\n",
    "Write a program to implement a Linear Search Algorithm. \n",
    "\n",
    "Hint: Linear Searching will require searching a list for a given number."
   ]
  },
  {
   "cell_type": "code",
   "execution_count": 82,
   "metadata": {},
   "outputs": [
    {
     "name": "stdout",
     "output_type": "stream",
     "text": [
      "3\n"
     ]
    }
   ],
   "source": [
    "nums_list = [10,23,45,70,11,15]\n",
    "target = 70\n",
    "\n",
    "def linear(list, target):\n",
    "    for num in range(len(list)):\n",
    "        if list[num] == target:\n",
    "            return num\n",
    "    return -1\n",
    "\n",
    "\n",
    "print(linear(nums_list, 70))\n",
    "\n",
    "# If number is not present return -1\n",
    "            "
   ]
  }
 ],
 "metadata": {
  "kernelspec": {
   "display_name": "Python 3 (ipykernel)",
   "language": "python",
   "name": "python3"
  },
  "language_info": {
   "codemirror_mode": {
    "name": "ipython",
    "version": 3
   },
   "file_extension": ".py",
   "mimetype": "text/x-python",
   "name": "python",
   "nbconvert_exporter": "python",
   "pygments_lexer": "ipython3",
   "version": "3.9.13"
  }
 },
 "nbformat": 4,
 "nbformat_minor": 2
}
